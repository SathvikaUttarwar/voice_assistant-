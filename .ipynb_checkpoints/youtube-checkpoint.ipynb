{
 "cells": [
  {
   "cell_type": "code",
   "execution_count": 3,
   "id": "e59f5d0d-99ef-4287-957b-799f5c8826eb",
   "metadata": {},
   "outputs": [],
   "source": [
    "from selenium import webdriver\n",
    "from selenium.webdriver.chrome.service import Service\n",
    "from selenium.webdriver.common.by import By \n",
    "from selenium.webdriver.chrome.options import Options\n",
    "class music():\n",
    "    def __init__(self):\n",
    "        service = Service(r\"C:\\Users\\sathv\\Downloads\\chromedriver-win64\\chromedriver-win64\\chromedriver.exe\")\n",
    "        self.driver = webdriver.Chrome(service=service) \n",
    "    def play(self, query):\n",
    "        self.query = query\n",
    "        self.driver.get(url=\"https://www.youtube.com/results?search_query=\" + query)\n",
    "        video=self.driver.find_element(By.XPATH, '//*[@id=\"video-title\"]/yt-formatted-string')\n",
    "        video.click()\n",
    "\n",
    "# assist=music()\n",
    "# assist.play('dynamite by bts')\n",
    "        "
   ]
  },
  {
   "cell_type": "code",
   "execution_count": null,
   "id": "6f9fec85-c944-4858-bfa6-12528fd46557",
   "metadata": {},
   "outputs": [],
   "source": []
  }
 ],
 "metadata": {
  "kernelspec": {
   "display_name": "Python 3 (ipykernel)",
   "language": "python",
   "name": "python3"
  },
  "language_info": {
   "codemirror_mode": {
    "name": "ipython",
    "version": 3
   },
   "file_extension": ".py",
   "mimetype": "text/x-python",
   "name": "python",
   "nbconvert_exporter": "python",
   "pygments_lexer": "ipython3",
   "version": "3.12.4"
  }
 },
 "nbformat": 4,
 "nbformat_minor": 5
}
