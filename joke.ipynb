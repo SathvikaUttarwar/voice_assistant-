{
 "cells": [
  {
   "cell_type": "code",
   "execution_count": 1,
   "id": "c523774e-8dd2-415e-989d-33035a91f228",
   "metadata": {},
   "outputs": [],
   "source": [
    "import requests\n",
    "\n",
    "url=\"http://official-joke-api.appspot.com/random_joke\"\n",
    "json_data = requests.get(url).json()\n",
    "\n",
    "arr=[\"\",\"\"]\n",
    "arr[0]=json_data[\"setup\"]\n",
    "arr[1] = json_data[\"punchline\"]\n",
    "def joke():\n",
    "    return arr"
   ]
  },
  {
   "cell_type": "code",
   "execution_count": null,
   "id": "7975fa45-73f4-4e41-9b1d-b5c24dc7a930",
   "metadata": {},
   "outputs": [],
   "source": []
  }
 ],
 "metadata": {
  "kernelspec": {
   "display_name": "Python 3 (ipykernel)",
   "language": "python",
   "name": "python3"
  },
  "language_info": {
   "codemirror_mode": {
    "name": "ipython",
    "version": 3
   },
   "file_extension": ".py",
   "mimetype": "text/x-python",
   "name": "python",
   "nbconvert_exporter": "python",
   "pygments_lexer": "ipython3",
   "version": "3.12.4"
  }
 },
 "nbformat": 4,
 "nbformat_minor": 5
}
