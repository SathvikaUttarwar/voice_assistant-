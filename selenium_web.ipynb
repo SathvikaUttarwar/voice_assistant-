{
 "cells": [
  {
   "cell_type": "code",
   "execution_count": 19,
   "id": "03087831-1584-4e12-9465-0dd9fa4361ad",
   "metadata": {},
   "outputs": [],
   "source": [
    "from selenium import webdriver\n",
    "from selenium.webdriver.chrome.service import Service\n",
    "from selenium.webdriver.common.by import By \n",
    "from selenium.webdriver.chrome.options import Options\n",
    "\n",
    "class Infow:\n",
    "    def __init__(self):\n",
    "        \n",
    "        service = Service(r\"C:\\Users\\sathv\\Downloads\\chromedriver-win64\\chromedriver-win64\\chromedriver.exe\")\n",
    "        self.driver = webdriver.Chrome(service=service)  \n",
    "    \n",
    "    def get_info(self, query):\n",
    "        self.query = query\n",
    "        self.driver.get(url=\"https://www.wikipedia.org\")\n",
    "        search=self.driver.find_element(By.XPATH, '//*[@id=\"searchInput\"]')\n",
    "        search.click()\n",
    "        search.send_keys(query)\n",
    "        enter = self.driver.find_element(By.XPATH,'//*[@id=\"search-form\"]/fieldset/button')\n",
    "        enter.click()\n",
    "\n",
    "\n",
    "\n",
    "        "
   ]
  },
  {
   "cell_type": "code",
   "execution_count": null,
   "id": "e264510f-5977-458d-92a4-22c8d3324822",
   "metadata": {},
   "outputs": [],
   "source": []
  }
 ],
 "metadata": {
  "kernelspec": {
   "display_name": "Python 3 (ipykernel)",
   "language": "python",
   "name": "python3"
  },
  "language_info": {
   "codemirror_mode": {
    "name": "ipython",
    "version": 3
   },
   "file_extension": ".py",
   "mimetype": "text/x-python",
   "name": "python",
   "nbconvert_exporter": "python",
   "pygments_lexer": "ipython3",
   "version": "3.12.4"
  }
 },
 "nbformat": 4,
 "nbformat_minor": 5
}
