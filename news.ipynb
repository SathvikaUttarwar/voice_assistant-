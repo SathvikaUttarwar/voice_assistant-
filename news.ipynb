{
 "cells": [
  {
   "cell_type": "code",
   "execution_count": 19,
   "id": "0e5eb6a7-ac83-42cb-9a47-4b19e62cb1eb",
   "metadata": {},
   "outputs": [
    {
     "name": "stdout",
     "output_type": "stream",
     "text": [
      "['Number 1: Wednesday briefing: Hurricane Milton’s path; Bob Woodward’s new book; Gaza death toll; ghost guns; Peter Todd; and more - The Washington Post.', 'Number 2: Nobel chemistry prize 2024 goes to protein pioneers Baker, Hassabis and Jumper - Reuters.', 'Number 3: [Removed].']\n"
     ]
    }
   ],
   "source": [
    "import requests\n",
    "from ss import *\n",
    "api_address = \"https://newsapi.org/v2/top-headlines?country=us&apikey=\"+'8b9965ab48f34599aa55b41c8b48f678'\n",
    "json_data = requests.get(api_address).json()\n",
    "\n",
    "\n",
    "\n",
    "ar = []\n",
    "def news():\n",
    "    num_articles = min(3, len(json_data[\"articles\"]))\n",
    "    for i in range(num_articles):\n",
    "        ar.append(\"Number \" + str(i+1) + \": \" + json_data[\"articles\"][i][\"title\"] + \".\")\n",
    "    return ar\n",
    "# ar = news()\n",
    "# print(ar)\n",
    "\n",
    "\n",
    "\n"
   ]
  },
  {
   "cell_type": "code",
   "execution_count": null,
   "id": "17c75b2b-4798-4f51-a336-1dde8ede0668",
   "metadata": {},
   "outputs": [],
   "source": []
  }
 ],
 "metadata": {
  "kernelspec": {
   "display_name": "Python 3 (ipykernel)",
   "language": "python",
   "name": "python3"
  },
  "language_info": {
   "codemirror_mode": {
    "name": "ipython",
    "version": 3
   },
   "file_extension": ".py",
   "mimetype": "text/x-python",
   "name": "python",
   "nbconvert_exporter": "python",
   "pygments_lexer": "ipython3",
   "version": "3.12.4"
  }
 },
 "nbformat": 4,
 "nbformat_minor": 5
}
