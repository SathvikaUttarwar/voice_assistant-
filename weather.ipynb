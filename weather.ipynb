{
 "cells": [
  {
   "cell_type": "code",
   "execution_count": 1,
   "id": "6917103a-eda2-4199-b533-3e442e9f0924",
   "metadata": {},
   "outputs": [],
   "source": [
    "import requests\n",
    "from ss import *\n",
    "api_address=\"http://api.openweathermap.org/data/2.5/weather?q=Delhi&appid=\"+'406fc012b0c0cf08902977171aa260ee'\n",
    "json_data=requests.get(api_address).json()\n",
    "\n",
    "def temp():\n",
    "    temprature = round(json_data[\"main\"][\"temp\"]-273,1)\n",
    "    return temprature\n",
    "\n",
    "def des():\n",
    "    description = json_data[\"weather\"][0][\"description\"]\n",
    "    return description\n",
    "\n",
    "# print(temp())\n",
    "# print(des())\n",
    "\n"
   ]
  },
  {
   "cell_type": "code",
   "execution_count": null,
   "id": "5a1932aa-e6b6-4517-a955-7c81eebb1406",
   "metadata": {},
   "outputs": [],
   "source": []
  }
 ],
 "metadata": {
  "kernelspec": {
   "display_name": "Python 3 (ipykernel)",
   "language": "python",
   "name": "python3"
  },
  "language_info": {
   "codemirror_mode": {
    "name": "ipython",
    "version": 3
   },
   "file_extension": ".py",
   "mimetype": "text/x-python",
   "name": "python",
   "nbconvert_exporter": "python",
   "pygments_lexer": "ipython3",
   "version": "3.12.4"
  }
 },
 "nbformat": 4,
 "nbformat_minor": 5
}
